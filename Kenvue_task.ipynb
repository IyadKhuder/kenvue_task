{
  "cells": [
    {
      "cell_type": "markdown",
      "metadata": {
        "id": "view-in-github",
        "colab_type": "text"
      },
      "source": [
        "<a href=\"https://colab.research.google.com/github/IyadKhuder/kenvue_task/blob/main/Kenvue_task.ipynb\" target=\"_parent\"><img src=\"https://colab.research.google.com/assets/colab-badge.svg\" alt=\"Open In Colab\"/></a>"
      ]
    },
    {
      "cell_type": "markdown",
      "metadata": {
        "id": "gcj31BUbRHZg"
      },
      "source": [
        "# KENVUE\n",
        "# Iyad Khuder task"
      ]
    },
    {
      "cell_type": "markdown",
      "metadata": {
        "id": "Z20MHulvWkl0"
      },
      "source": [
        "\n",
        "Engr. Iyad Khuder - December 14, 2023"
      ]
    },
    {
      "cell_type": "markdown",
      "metadata": {
        "id": "nEPxXTnwMcjh"
      },
      "source": [
        "## I. Imports & Definitions"
      ]
    },
    {
      "cell_type": "markdown",
      "metadata": {
        "id": "IQ33Dy3PVkqm"
      },
      "source": [
        "### Importing the libraries"
      ]
    },
    {
      "cell_type": "code",
      "execution_count": 1,
      "metadata": {
        "id": "JLI9iwo0QKZf"
      },
      "outputs": [],
      "source": [
        "import pandas as pd\n",
        "import numpy as np"
      ]
    },
    {
      "cell_type": "markdown",
      "metadata": {
        "id": "xpXdowrE9DxW"
      },
      "source": [
        "### Importing the dataset"
      ]
    },
    {
      "cell_type": "code",
      "source": [
        "# libraries for the files in google drive\n",
        "from pydrive2.auth import GoogleAuth\n",
        "from google.colab import drive\n",
        "from pydrive2.drive import GoogleDrive\n",
        "from google.colab import auth\n",
        "from oauth2client.client import GoogleCredentials"
      ],
      "metadata": {
        "id": "4VY1J-m4fSeB"
      },
      "execution_count": 2,
      "outputs": []
    },
    {
      "cell_type": "markdown",
      "metadata": {
        "id": "PXW_OZhkWv74"
      },
      "source": [
        "###  *Connecting to Google-Drive and importing the dataset file*"
      ]
    },
    {
      "cell_type": "code",
      "source": [
        "auth.authenticate_user()\n",
        "gauth = GoogleAuth()\n",
        "gauth.credentials = GoogleCredentials.get_application_default()\n",
        "drive = GoogleDrive(gauth)\n",
        "\n",
        "# The link to the gross \"raw\" CSV dataset file on my Google Drive:\n",
        "#https://drive.google.com/file/d/1SGt2kN5H5CJhzUrx7ZTDZZYjh-C_6NHl/view?usp=share_link\n",
        "\n",
        "# out of which, we take the file ID:\n",
        "download = drive.CreateFile({'id': '1SGt2kN5H5CJhzUrx7ZTDZZYjh-C_6NHl'})\n",
        "\n",
        "# Download the file to a local disc\n",
        "download.GetContentFile('task_data.csv')\n"
      ],
      "metadata": {
        "id": "vvz_iIB0ULje"
      },
      "execution_count": 3,
      "outputs": []
    },
    {
      "cell_type": "code",
      "execution_count": 4,
      "metadata": {
        "id": "D5x5AcxPWKYB",
        "colab": {
          "base_uri": "https://localhost:8080/"
        },
        "outputId": "0ca78c25-692b-4c9b-bcd5-b190fc00592e"
      },
      "outputs": [
        {
          "output_type": "stream",
          "name": "stderr",
          "text": [
            "<ipython-input-4-891927269dc8>:1: DtypeWarning: Columns (5,7,8,12,13) have mixed types. Specify dtype option on import or set low_memory=False.\n",
            "  df = pd.read_csv('task_data.csv')\n"
          ]
        }
      ],
      "source": [
        "df = pd.read_csv('task_data.csv')"
      ]
    },
    {
      "cell_type": "markdown",
      "metadata": {
        "id": "6_wAfgrAc9B_"
      },
      "source": [
        "## II. Surveillance over the dataset"
      ]
    },
    {
      "cell_type": "code",
      "execution_count": 5,
      "metadata": {
        "colab": {
          "base_uri": "https://localhost:8080/"
        },
        "id": "eDJh3-hgXtkv",
        "outputId": "fe69eb33-02a5-4960-e648-5d6023347148"
      },
      "outputs": [
        {
          "output_type": "execute_result",
          "data": {
            "text/plain": [
              "(149998, 14)"
            ]
          },
          "metadata": {},
          "execution_count": 5
        }
      ],
      "source": [
        "df.shape"
      ]
    },
    {
      "cell_type": "code",
      "execution_count": 6,
      "metadata": {
        "colab": {
          "base_uri": "https://localhost:8080/"
        },
        "id": "ojCu-qrefHXn",
        "outputId": "c6218dd2-bc2c-4a8b-8236-5d54e25692d7"
      },
      "outputs": [
        {
          "output_type": "stream",
          "name": "stdout",
          "text": [
            "<class 'pandas.core.frame.DataFrame'>\n",
            "RangeIndex: 149998 entries, 0 to 149997\n",
            "Data columns (total 14 columns):\n",
            " #   Column                       Non-Null Count   Dtype \n",
            "---  ------                       --------------   ----- \n",
            " 0   Delivery Number              149998 non-null  int64 \n",
            " 1   Delivery Type Code           149998 non-null  object\n",
            " 2   Delivery DateTime            149998 non-null  object\n",
            " 3   Planned Good Issued Date     149998 non-null  object\n",
            " 4   Sales Organization Category  149998 non-null  object\n",
            " 5   Shipping Condition Code      149998 non-null  object\n",
            " 6   Shipping Plant Number        149998 non-null  object\n",
            " 7   Ship to Customer             149998 non-null  object\n",
            " 8   Sold to Customer             149998 non-null  object\n",
            " 9   Actual Good Issue Date       149998 non-null  object\n",
            " 10  Initial Commercial Code      149998 non-null  object\n",
            " 11  Sales Organization Number    149998 non-null  object\n",
            " 12  Pick Date                    66414 non-null   object\n",
            " 13  Group Code                   149998 non-null  object\n",
            "dtypes: int64(1), object(13)\n",
            "memory usage: 16.0+ MB\n"
          ]
        }
      ],
      "source": [
        "df.info()"
      ]
    },
    {
      "cell_type": "code",
      "execution_count": 9,
      "metadata": {
        "id": "nSwmrku7VOsv"
      },
      "outputs": [],
      "source": [
        "df.rename(columns=lambda x: x.replace(\" \", \"\"), inplace=True)\n",
        "df.rename(columns={\"ShiptoCustomer\": \"ShippingCustomerID\", \"SoldtoCustomer\": \"OrderCustomerID\"}, inplace=True)\n"
      ]
    },
    {
      "cell_type": "code",
      "source": [
        "df.info()"
      ],
      "metadata": {
        "colab": {
          "base_uri": "https://localhost:8080/"
        },
        "id": "gwvciAN7fhq9",
        "outputId": "a35a4519-55b9-4904-b147-16f51051a218"
      },
      "execution_count": 10,
      "outputs": [
        {
          "output_type": "stream",
          "name": "stdout",
          "text": [
            "<class 'pandas.core.frame.DataFrame'>\n",
            "RangeIndex: 149998 entries, 0 to 149997\n",
            "Data columns (total 14 columns):\n",
            " #   Column                     Non-Null Count   Dtype \n",
            "---  ------                     --------------   ----- \n",
            " 0   DeliveryNumber             149998 non-null  int64 \n",
            " 1   DeliveryTypeCode           149998 non-null  object\n",
            " 2   DeliveryDateTime           149998 non-null  object\n",
            " 3   PlannedGoodIssuedDate      149998 non-null  object\n",
            " 4   SalesOrganizationCategory  149998 non-null  object\n",
            " 5   ShippingConditionCode      149998 non-null  object\n",
            " 6   ShippingPlantNumber        149998 non-null  object\n",
            " 7   ShippingCustomerID         149998 non-null  object\n",
            " 8   OrderCustomerID            149998 non-null  object\n",
            " 9   ActualGoodIssueDate        149998 non-null  object\n",
            " 10  InitialCommercialCode      149998 non-null  object\n",
            " 11  SalesOrganizationNumber    149998 non-null  object\n",
            " 12  PickDate                   66414 non-null   object\n",
            " 13  GroupCode                  149998 non-null  object\n",
            "dtypes: int64(1), object(13)\n",
            "memory usage: 16.0+ MB\n"
          ]
        }
      ]
    },
    {
      "cell_type": "code",
      "source": [
        "customers = df[[\"ShippingCustomerID\", \"OrderCustomerID\"]].copy()\n",
        "customers.info()"
      ],
      "metadata": {
        "colab": {
          "base_uri": "https://localhost:8080/"
        },
        "id": "tr0fZRYAgL8Y",
        "outputId": "cf8b2316-29fe-40ed-be1d-f780f86a962e"
      },
      "execution_count": 11,
      "outputs": [
        {
          "output_type": "stream",
          "name": "stdout",
          "text": [
            "<class 'pandas.core.frame.DataFrame'>\n",
            "RangeIndex: 149998 entries, 0 to 149997\n",
            "Data columns (total 2 columns):\n",
            " #   Column              Non-Null Count   Dtype \n",
            "---  ------              --------------   ----- \n",
            " 0   ShippingCustomerID  149998 non-null  object\n",
            " 1   OrderCustomerID     149998 non-null  object\n",
            "dtypes: object(2)\n",
            "memory usage: 2.3+ MB\n"
          ]
        }
      ]
    },
    {
      "cell_type": "markdown",
      "source": [
        "Check the difference between the two sets:"
      ],
      "metadata": {
        "id": "PmkEmpGflnC4"
      }
    },
    {
      "cell_type": "code",
      "source": [
        "shipping_customer_only = set(customers[\"ShippingCustomerID\"]) - set(customers[\"OrderCustomerID\"])\n"
      ],
      "metadata": {
        "id": "XXSm1QKqlrXC"
      },
      "execution_count": 12,
      "outputs": []
    },
    {
      "cell_type": "code",
      "source": [
        "shipping_customer_only_df = pd.DataFrame(shipping_customer_only)"
      ],
      "metadata": {
        "id": "LA3qtXXbmEFz"
      },
      "execution_count": 13,
      "outputs": []
    },
    {
      "cell_type": "code",
      "source": [
        "shipping_customer_only_df.info()"
      ],
      "metadata": {
        "colab": {
          "base_uri": "https://localhost:8080/"
        },
        "id": "MeadjEY_mMwi",
        "outputId": "91fecbe4-6193-48b2-90f9-26d36310c418"
      },
      "execution_count": 14,
      "outputs": [
        {
          "output_type": "stream",
          "name": "stdout",
          "text": [
            "<class 'pandas.core.frame.DataFrame'>\n",
            "RangeIndex: 18846 entries, 0 to 18845\n",
            "Data columns (total 1 columns):\n",
            " #   Column  Non-Null Count  Dtype \n",
            "---  ------  --------------  ----- \n",
            " 0   0       18846 non-null  object\n",
            "dtypes: object(1)\n",
            "memory usage: 147.4+ KB\n"
          ]
        }
      ]
    },
    {
      "cell_type": "code",
      "source": [
        "order_customer_only = set(customers[\"OrderCustomerID\"]) - set(customers[\"ShippingCustomerID\"])\n",
        "order_customer_only_df = pd.DataFrame(order_customer_only)"
      ],
      "metadata": {
        "id": "45bDaMGamXPR"
      },
      "execution_count": 15,
      "outputs": []
    },
    {
      "cell_type": "code",
      "source": [
        "order_customer_only_df.info()"
      ],
      "metadata": {
        "colab": {
          "base_uri": "https://localhost:8080/"
        },
        "id": "mKcdLNRBml5w",
        "outputId": "95443e33-0100-4892-e69c-d685251f3953"
      },
      "execution_count": 16,
      "outputs": [
        {
          "output_type": "stream",
          "name": "stdout",
          "text": [
            "<class 'pandas.core.frame.DataFrame'>\n",
            "RangeIndex: 12032 entries, 0 to 12031\n",
            "Data columns (total 1 columns):\n",
            " #   Column  Non-Null Count  Dtype \n",
            "---  ------  --------------  ----- \n",
            " 0   0       12032 non-null  object\n",
            "dtypes: object(1)\n",
            "memory usage: 94.1+ KB\n"
          ]
        }
      ]
    },
    {
      "cell_type": "markdown",
      "source": [
        "Extract all customer IDs"
      ],
      "metadata": {
        "id": "20gN3UIhgf9v"
      }
    },
    {
      "cell_type": "code",
      "source": [
        "AllCustomers = pd.concat([customers[\"ShippingCustomerID\"], customers[\"OrderCustomerID\"]], ignore_index=True).drop_duplicates()\n",
        "AllCustomers = pd.DataFrame(AllCustomers, columns=[\"CustomerID\"])\n",
        "AllCustomers.info()"
      ],
      "metadata": {
        "colab": {
          "base_uri": "https://localhost:8080/"
        },
        "id": "Vac7D0tlgkXc",
        "outputId": "30f1fa1c-3922-4bc5-cc28-036f7e65267a"
      },
      "execution_count": 17,
      "outputs": [
        {
          "output_type": "stream",
          "name": "stdout",
          "text": [
            "<class 'pandas.core.frame.DataFrame'>\n",
            "Int64Index: 59073 entries, 0 to 299959\n",
            "Data columns (total 1 columns):\n",
            " #   Column      Non-Null Count  Dtype \n",
            "---  ------      --------------  ----- \n",
            " 0   CustomerID  59073 non-null  object\n",
            "dtypes: object(1)\n",
            "memory usage: 923.0+ KB\n"
          ]
        }
      ]
    },
    {
      "cell_type": "code",
      "source": [
        "from google.colab import drive\n",
        "drive.mount('/content/drive')"
      ],
      "metadata": {
        "colab": {
          "base_uri": "https://localhost:8080/"
        },
        "id": "uzGqBKu7q1FP",
        "outputId": "8723bca0-ab16-43fd-b8e2-9edc6c9ae03c"
      },
      "execution_count": 19,
      "outputs": [
        {
          "output_type": "stream",
          "name": "stdout",
          "text": [
            "Mounted at /content/drive\n"
          ]
        }
      ]
    },
    {
      "cell_type": "code",
      "source": [
        "AllCustomers.to_csv('/content/drive/My Drive/Colab Notebooks/Datasets/AllCustomers2.csv', index=False)\n"
      ],
      "metadata": {
        "id": "R2ueVYU4lXIy"
      },
      "execution_count": 20,
      "outputs": []
    }
  ],
  "metadata": {
    "colab": {
      "provenance": [],
      "toc_visible": true,
      "include_colab_link": true
    },
    "kernelspec": {
      "display_name": "Python 3 (ipykernel)",
      "language": "python",
      "name": "python3"
    },
    "language_info": {
      "codemirror_mode": {
        "name": "ipython",
        "version": 3
      },
      "file_extension": ".py",
      "mimetype": "text/x-python",
      "name": "python",
      "nbconvert_exporter": "python",
      "pygments_lexer": "ipython3",
      "version": "3.9.13"
    }
  },
  "nbformat": 4,
  "nbformat_minor": 0
}